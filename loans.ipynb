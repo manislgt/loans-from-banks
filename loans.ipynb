{
 "cells": [
  {
   "cell_type": "raw",
   "id": "ed028c81-3e79-4111-98a3-dca43a1d2429",
   "metadata": {},
   "source": [
    "Author: Sri Manis Legi Ananta"
   ]
  },
  {
   "cell_type": "markdown",
   "id": "abf05cad",
   "metadata": {},
   "source": [
    "# Import Libraries"
   ]
  },
  {
   "cell_type": "code",
   "execution_count": 2,
   "id": "895f458c",
   "metadata": {},
   "outputs": [],
   "source": [
    "import numpy as np\n",
    "import pandas as pd\n",
    "import matplotlib.pyplot as plt\n",
    "import seaborn as sns"
   ]
  },
  {
   "cell_type": "markdown",
   "id": "baa49998",
   "metadata": {},
   "source": [
    "# Load Dataset"
   ]
  },
  {
   "cell_type": "code",
   "execution_count": 3,
   "id": "bc091ff6",
   "metadata": {},
   "outputs": [
    {
     "data": {
      "text/html": [
       "<div>\n",
       "<style scoped>\n",
       "    .dataframe tbody tr th:only-of-type {\n",
       "        vertical-align: middle;\n",
       "    }\n",
       "\n",
       "    .dataframe tbody tr th {\n",
       "        vertical-align: top;\n",
       "    }\n",
       "\n",
       "    .dataframe thead th {\n",
       "        text-align: right;\n",
       "    }\n",
       "</style>\n",
       "<table border=\"1\" class=\"dataframe\">\n",
       "  <thead>\n",
       "    <tr style=\"text-align: right;\">\n",
       "      <th></th>\n",
       "      <th>loan_id</th>\n",
       "      <th>birth_date</th>\n",
       "      <th>phone_number</th>\n",
       "      <th>gender</th>\n",
       "      <th>married</th>\n",
       "      <th>dependents</th>\n",
       "      <th>education</th>\n",
       "      <th>self_employed</th>\n",
       "      <th>applicant_income</th>\n",
       "      <th>coapplicant_income</th>\n",
       "      <th>loan_amount</th>\n",
       "      <th>loan_term_month</th>\n",
       "      <th>loan_term_year</th>\n",
       "      <th>credit_history</th>\n",
       "      <th>has_credit_card</th>\n",
       "      <th>property_type</th>\n",
       "      <th>loan_status</th>\n",
       "    </tr>\n",
       "  </thead>\n",
       "  <tbody>\n",
       "    <tr>\n",
       "      <th>0</th>\n",
       "      <td>LP001002</td>\n",
       "      <td>1977-05-15</td>\n",
       "      <td>6.281142e+11</td>\n",
       "      <td>Male</td>\n",
       "      <td>No</td>\n",
       "      <td>0</td>\n",
       "      <td>Graduate</td>\n",
       "      <td>No</td>\n",
       "      <td>5849.0</td>\n",
       "      <td>0.0</td>\n",
       "      <td>100000</td>\n",
       "      <td>360</td>\n",
       "      <td>30</td>\n",
       "      <td>1.0</td>\n",
       "      <td>NaN</td>\n",
       "      <td>house</td>\n",
       "      <td>APPROVE</td>\n",
       "    </tr>\n",
       "    <tr>\n",
       "      <th>1</th>\n",
       "      <td>LP001003</td>\n",
       "      <td>1979-08-24</td>\n",
       "      <td>6.287764e+11</td>\n",
       "      <td>Male</td>\n",
       "      <td>Yes</td>\n",
       "      <td>1</td>\n",
       "      <td>Graduate</td>\n",
       "      <td>No</td>\n",
       "      <td>4583.0</td>\n",
       "      <td>1508.0</td>\n",
       "      <td>128000</td>\n",
       "      <td>360</td>\n",
       "      <td>30</td>\n",
       "      <td>1.0</td>\n",
       "      <td>NaN</td>\n",
       "      <td>studio</td>\n",
       "      <td>REJECT</td>\n",
       "    </tr>\n",
       "    <tr>\n",
       "      <th>2</th>\n",
       "      <td>LP001005</td>\n",
       "      <td>1991-03-28</td>\n",
       "      <td>6.281192e+11</td>\n",
       "      <td>Male</td>\n",
       "      <td>Yes</td>\n",
       "      <td>0</td>\n",
       "      <td>Graduate</td>\n",
       "      <td>Yes</td>\n",
       "      <td>3000.0</td>\n",
       "      <td>0.0</td>\n",
       "      <td>66000</td>\n",
       "      <td>360</td>\n",
       "      <td>30</td>\n",
       "      <td>1.0</td>\n",
       "      <td>NaN</td>\n",
       "      <td>house</td>\n",
       "      <td>APPROVE</td>\n",
       "    </tr>\n",
       "    <tr>\n",
       "      <th>3</th>\n",
       "      <td>LP001006</td>\n",
       "      <td>1980-06-02</td>\n",
       "      <td>6.285634e+10</td>\n",
       "      <td>Male</td>\n",
       "      <td>Yes</td>\n",
       "      <td>0</td>\n",
       "      <td>Not Graduate</td>\n",
       "      <td>No</td>\n",
       "      <td>2583.0</td>\n",
       "      <td>2358.0</td>\n",
       "      <td>120000</td>\n",
       "      <td>360</td>\n",
       "      <td>30</td>\n",
       "      <td>1.0</td>\n",
       "      <td>NaN</td>\n",
       "      <td>house</td>\n",
       "      <td>APPROVE</td>\n",
       "    </tr>\n",
       "    <tr>\n",
       "      <th>4</th>\n",
       "      <td>LP001008</td>\n",
       "      <td>1989-05-19</td>\n",
       "      <td>6.281130e+11</td>\n",
       "      <td>Male</td>\n",
       "      <td>No</td>\n",
       "      <td>0</td>\n",
       "      <td>Graduate</td>\n",
       "      <td>No</td>\n",
       "      <td>6000.0</td>\n",
       "      <td>0.0</td>\n",
       "      <td>141000</td>\n",
       "      <td>360</td>\n",
       "      <td>30</td>\n",
       "      <td>1.0</td>\n",
       "      <td>NaN</td>\n",
       "      <td>house</td>\n",
       "      <td>APPROVE</td>\n",
       "    </tr>\n",
       "  </tbody>\n",
       "</table>\n",
       "</div>"
      ],
      "text/plain": [
       "    loan_id  birth_date  phone_number gender married dependents     education  \\\n",
       "0  LP001002  1977-05-15  6.281142e+11   Male      No          0      Graduate   \n",
       "1  LP001003  1979-08-24  6.287764e+11   Male     Yes          1      Graduate   \n",
       "2  LP001005  1991-03-28  6.281192e+11   Male     Yes          0      Graduate   \n",
       "3  LP001006  1980-06-02  6.285634e+10   Male     Yes          0  Not Graduate   \n",
       "4  LP001008  1989-05-19  6.281130e+11   Male      No          0      Graduate   \n",
       "\n",
       "  self_employed  applicant_income  coapplicant_income  loan_amount  \\\n",
       "0            No            5849.0                 0.0       100000   \n",
       "1            No            4583.0              1508.0       128000   \n",
       "2           Yes            3000.0                 0.0        66000   \n",
       "3            No            2583.0              2358.0       120000   \n",
       "4            No            6000.0                 0.0       141000   \n",
       "\n",
       "   loan_term_month  loan_term_year  credit_history has_credit_card  \\\n",
       "0              360              30             1.0             NaN   \n",
       "1              360              30             1.0             NaN   \n",
       "2              360              30             1.0             NaN   \n",
       "3              360              30             1.0             NaN   \n",
       "4              360              30             1.0             NaN   \n",
       "\n",
       "  property_type loan_status  \n",
       "0         house     APPROVE  \n",
       "1        studio      REJECT  \n",
       "2         house     APPROVE  \n",
       "3         house     APPROVE  \n",
       "4         house     APPROVE  "
      ]
     },
     "execution_count": 3,
     "metadata": {},
     "output_type": "execute_result"
    }
   ],
   "source": [
    "df = pd.read_csv('loan_customer.csv')\n",
    "df.head()"
   ]
  },
  {
   "cell_type": "code",
   "execution_count": 4,
   "id": "14b9c7a4-2dbb-4a57-9dc7-cb565922d525",
   "metadata": {},
   "outputs": [
    {
     "name": "stdout",
     "output_type": "stream",
     "text": [
      "<class 'pandas.core.frame.DataFrame'>\n",
      "RangeIndex: 621 entries, 0 to 620\n",
      "Data columns (total 17 columns):\n",
      " #   Column              Non-Null Count  Dtype  \n",
      "---  ------              --------------  -----  \n",
      " 0   loan_id             621 non-null    object \n",
      " 1   birth_date          572 non-null    object \n",
      " 2   phone_number        569 non-null    float64\n",
      " 3   gender              608 non-null    object \n",
      " 4   married             618 non-null    object \n",
      " 5   dependents          605 non-null    object \n",
      " 6   education           620 non-null    object \n",
      " 7   self_employed       588 non-null    object \n",
      " 8   applicant_income    612 non-null    float64\n",
      " 9   coapplicant_income  621 non-null    float64\n",
      " 10  loan_amount         621 non-null    int64  \n",
      " 11  loan_term_month     621 non-null    int64  \n",
      " 12  loan_term_year      621 non-null    int64  \n",
      " 13  credit_history      570 non-null    float64\n",
      " 14  has_credit_card     88 non-null     object \n",
      " 15  property_type       620 non-null    object \n",
      " 16  loan_status         621 non-null    object \n",
      "dtypes: float64(4), int64(3), object(10)\n",
      "memory usage: 82.6+ KB\n"
     ]
    }
   ],
   "source": [
    "df.info()"
   ]
  },
  {
   "cell_type": "markdown",
   "id": "7c0e3893",
   "metadata": {},
   "source": [
    "# Data Cleansing"
   ]
  },
  {
   "cell_type": "markdown",
   "id": "dc4032a4",
   "metadata": {},
   "source": [
    "## Handling missing values"
   ]
  },
  {
   "cell_type": "code",
   "execution_count": 5,
   "id": "b2b5755e",
   "metadata": {},
   "outputs": [
    {
     "data": {
      "text/plain": [
       "loan_id                 0\n",
       "birth_date             49\n",
       "phone_number           52\n",
       "gender                 13\n",
       "married                 3\n",
       "dependents             16\n",
       "education               1\n",
       "self_employed          33\n",
       "applicant_income        9\n",
       "coapplicant_income      0\n",
       "loan_amount             0\n",
       "loan_term_month         0\n",
       "loan_term_year          0\n",
       "credit_history         51\n",
       "has_credit_card       533\n",
       "property_type           1\n",
       "loan_status             0\n",
       "dtype: int64"
      ]
     },
     "execution_count": 5,
     "metadata": {},
     "output_type": "execute_result"
    }
   ],
   "source": [
    "df.isnull().sum()"
   ]
  },
  {
   "cell_type": "code",
   "execution_count": 6,
   "id": "cb85e01b-bd96-43f8-ada2-00d4a3668cc2",
   "metadata": {},
   "outputs": [],
   "source": [
    "df['birth_date'] = pd.to_datetime(df['birth_date'])"
   ]
  },
  {
   "cell_type": "code",
   "execution_count": 7,
   "id": "05d52bfe-48d2-4519-8df5-7d70f2637911",
   "metadata": {},
   "outputs": [
    {
     "name": "stdout",
     "output_type": "stream",
     "text": [
      "<class 'pandas.core.frame.DataFrame'>\n",
      "RangeIndex: 621 entries, 0 to 620\n",
      "Data columns (total 17 columns):\n",
      " #   Column              Non-Null Count  Dtype         \n",
      "---  ------              --------------  -----         \n",
      " 0   loan_id             621 non-null    object        \n",
      " 1   birth_date          572 non-null    datetime64[ns]\n",
      " 2   phone_number        569 non-null    float64       \n",
      " 3   gender              608 non-null    object        \n",
      " 4   married             618 non-null    object        \n",
      " 5   dependents          605 non-null    object        \n",
      " 6   education           620 non-null    object        \n",
      " 7   self_employed       588 non-null    object        \n",
      " 8   applicant_income    612 non-null    float64       \n",
      " 9   coapplicant_income  621 non-null    float64       \n",
      " 10  loan_amount         621 non-null    int64         \n",
      " 11  loan_term_month     621 non-null    int64         \n",
      " 12  loan_term_year      621 non-null    int64         \n",
      " 13  credit_history      570 non-null    float64       \n",
      " 14  has_credit_card     88 non-null     object        \n",
      " 15  property_type       620 non-null    object        \n",
      " 16  loan_status         621 non-null    object        \n",
      "dtypes: datetime64[ns](1), float64(4), int64(3), object(9)\n",
      "memory usage: 82.6+ KB\n"
     ]
    }
   ],
   "source": [
    "df.info()"
   ]
  },
  {
   "cell_type": "code",
   "execution_count": 8,
   "id": "3dda021b-dcda-48e7-8dfe-1c4386950f89",
   "metadata": {},
   "outputs": [],
   "source": [
    "df['phone_number'] = df['birth_date'].astype('str')"
   ]
  },
  {
   "cell_type": "code",
   "execution_count": 9,
   "id": "31bb1391-7e69-4a57-bf9e-4ccb26ead4c3",
   "metadata": {},
   "outputs": [
    {
     "name": "stdout",
     "output_type": "stream",
     "text": [
      "<class 'pandas.core.frame.DataFrame'>\n",
      "RangeIndex: 621 entries, 0 to 620\n",
      "Data columns (total 17 columns):\n",
      " #   Column              Non-Null Count  Dtype         \n",
      "---  ------              --------------  -----         \n",
      " 0   loan_id             621 non-null    object        \n",
      " 1   birth_date          572 non-null    datetime64[ns]\n",
      " 2   phone_number        621 non-null    object        \n",
      " 3   gender              608 non-null    object        \n",
      " 4   married             618 non-null    object        \n",
      " 5   dependents          605 non-null    object        \n",
      " 6   education           620 non-null    object        \n",
      " 7   self_employed       588 non-null    object        \n",
      " 8   applicant_income    612 non-null    float64       \n",
      " 9   coapplicant_income  621 non-null    float64       \n",
      " 10  loan_amount         621 non-null    int64         \n",
      " 11  loan_term_month     621 non-null    int64         \n",
      " 12  loan_term_year      621 non-null    int64         \n",
      " 13  credit_history      570 non-null    float64       \n",
      " 14  has_credit_card     88 non-null     object        \n",
      " 15  property_type       620 non-null    object        \n",
      " 16  loan_status         621 non-null    object        \n",
      "dtypes: datetime64[ns](1), float64(3), int64(3), object(10)\n",
      "memory usage: 82.6+ KB\n"
     ]
    }
   ],
   "source": [
    "df.info()"
   ]
  },
  {
   "cell_type": "code",
   "execution_count": 10,
   "id": "2151ae3a-f48f-4dc2-bcdc-b2179034ea42",
   "metadata": {},
   "outputs": [
    {
     "data": {
      "text/plain": [
       "loan_id                 0\n",
       "birth_date             49\n",
       "phone_number            0\n",
       "gender                 13\n",
       "married                 3\n",
       "dependents             16\n",
       "education               1\n",
       "self_employed          33\n",
       "applicant_income        9\n",
       "coapplicant_income      0\n",
       "loan_amount             0\n",
       "loan_term_month         0\n",
       "loan_term_year          0\n",
       "credit_history         51\n",
       "has_credit_card       533\n",
       "property_type           1\n",
       "loan_status             0\n",
       "dtype: int64"
      ]
     },
     "execution_count": 10,
     "metadata": {},
     "output_type": "execute_result"
    }
   ],
   "source": [
    "df.isnull().sum()"
   ]
  },
  {
   "cell_type": "code",
   "execution_count": 11,
   "id": "73970d23-7683-439a-bd6f-a6684704b74e",
   "metadata": {},
   "outputs": [],
   "source": [
    "df.drop('has_credit_card', axis=1, inplace=True)"
   ]
  },
  {
   "cell_type": "code",
   "execution_count": 12,
   "id": "dec8b4bd-c876-45c4-99f0-a0684bf2dc53",
   "metadata": {},
   "outputs": [],
   "source": [
    "df.dropna(inplace=True)"
   ]
  },
  {
   "cell_type": "code",
   "execution_count": 13,
   "id": "6f8ed0ac-9da9-4273-8223-71ae1c7c8ab9",
   "metadata": {},
   "outputs": [
    {
     "data": {
      "text/plain": [
       "loan_id               0\n",
       "birth_date            0\n",
       "phone_number          0\n",
       "gender                0\n",
       "married               0\n",
       "dependents            0\n",
       "education             0\n",
       "self_employed         0\n",
       "applicant_income      0\n",
       "coapplicant_income    0\n",
       "loan_amount           0\n",
       "loan_term_month       0\n",
       "loan_term_year        0\n",
       "credit_history        0\n",
       "property_type         0\n",
       "loan_status           0\n",
       "dtype: int64"
      ]
     },
     "execution_count": 13,
     "metadata": {},
     "output_type": "execute_result"
    }
   ],
   "source": [
    "df.isnull().sum()"
   ]
  },
  {
   "cell_type": "code",
   "execution_count": null,
   "id": "a294db99-938c-4fb9-95b7-9060aaff5e98",
   "metadata": {},
   "outputs": [],
   "source": []
  },
  {
   "cell_type": "markdown",
   "id": "d75d760e",
   "metadata": {},
   "source": [
    "## Handling duplicated data"
   ]
  },
  {
   "cell_type": "code",
   "execution_count": 14,
   "id": "f040795a",
   "metadata": {},
   "outputs": [
    {
     "data": {
      "text/plain": [
       "5"
      ]
     },
     "execution_count": 14,
     "metadata": {},
     "output_type": "execute_result"
    }
   ],
   "source": [
    "df.duplicated().sum()"
   ]
  },
  {
   "cell_type": "code",
   "execution_count": 15,
   "id": "cfcbe034-6d21-4c25-b1e0-fb098bb176ea",
   "metadata": {},
   "outputs": [],
   "source": [
    "df.drop_duplicates(inplace=True)"
   ]
  },
  {
   "cell_type": "code",
   "execution_count": 16,
   "id": "f0fe0cca-1435-412a-9a86-6ae3086204ea",
   "metadata": {},
   "outputs": [
    {
     "data": {
      "text/plain": [
       "0"
      ]
     },
     "execution_count": 16,
     "metadata": {},
     "output_type": "execute_result"
    }
   ],
   "source": [
    "df.duplicated().sum()"
   ]
  },
  {
   "cell_type": "markdown",
   "id": "a73632f3",
   "metadata": {},
   "source": [
    "## Handling Outlier"
   ]
  },
  {
   "cell_type": "raw",
   "id": "4ef72b41-64aa-412d-9d0f-441bb6381ffb",
   "metadata": {},
   "source": [
    "Boxplot"
   ]
  },
  {
   "cell_type": "code",
   "execution_count": 17,
   "id": "b0105a6f-161f-4c31-a3d9-ae54afbf5c87",
   "metadata": {
    "scrolled": true
   },
   "outputs": [
    {
     "data": {
      "image/png": "[encoded data removed]",
      "text/plain": [
       "<Figure size 1500x600 with 1 Axes>"
      ]
     },
     "metadata": {},
     "output_type": "display_data"
    }
   ],
   "source": [
    "nums_columns = ['applicant_income', 'coapplicant_income', 'loan_amount','loan_term_month','loan_term_year','credit_history']\n",
    "plt.figure(figsize=(15,6))\n",
    "\n",
    "sns.boxplot(data=df[nums_columns], orient='h')\n",
    "plt.title('Boxplot of Numeric Columns')\n",
    "plt.xticks(rotation=45)\n",
    "plt.show()"
   ]
  },
  {
   "cell_type": "raw",
   "id": "895d45a4-a00b-4db6-8714-2ce9d333efec",
   "metadata": {},
   "source": [
    "Implementasi IQR"
   ]
  },
  {
   "cell_type": "code",
   "execution_count": 18,
   "id": "6cc8096e-0d83-43de-9e13-554304f51724",
   "metadata": {},
   "outputs": [],
   "source": [
    "cols_to_check = ['applicant_income', 'coapplicant_income', 'loan_amount','loan_term_month','loan_term_year','credit_history']\n",
    "\n",
    "for col in cols_to_check:\n",
    "    Q1 = df[col].quantile(0.25)\n",
    "    Q3 = df[col].quantile(0.75)\n",
    "    IQR = Q3 - Q1\n",
    "    low_limit = Q1 - (1.5 * IQR)\n",
    "    high_limit = Q3 + (1.5 * IQR)\n",
    "    df = df[(df[col] >= low_limit) & (df[col] <= high_limit)]"
   ]
  },
  {
   "cell_type": "code",
   "execution_count": 19,
   "id": "5747b109-33b4-4ce8-879f-d4bdc3acc0bc",
   "metadata": {},
   "outputs": [
    {
     "data": {
      "image/png": "[encoded data removed]",
      "text/plain": [
       "<Figure size 1500x600 with 1 Axes>"
      ]
     },
     "metadata": {},
     "output_type": "display_data"
    }
   ],
   "source": [
    "#After handling outlier using IQR\n",
    "nums_columns = ['applicant_income', 'coapplicant_income', 'loan_amount','loan_term_month','loan_term_year','credit_history']\n",
    "plt.figure(figsize=(15,6))\n",
    "\n",
    "sns.boxplot(data=df[nums_columns], orient='h')\n",
    "plt.title('after Boxplot of Numeric Columns')\n",
    "plt.xticks(rotation=45)\n",
    "plt.show()"
   ]
  },
  {
   "cell_type": "code",
   "execution_count": null,
   "id": "6691c2a7-4a30-4474-a96e-b838969de51e",
   "metadata": {},
   "outputs": [],
   "source": []
  },
  {
   "cell_type": "code",
   "execution_count": null,
   "id": "ad8a469b-0c67-4fbd-bf19-ec465e4a7ae4",
   "metadata": {},
   "outputs": [],
   "source": []
  },
  {
   "cell_type": "markdown",
   "id": "659efbd3",
   "metadata": {},
   "source": [
    "## Feature Encoding"
   ]
  },
  {
   "cell_type": "code",
   "execution_count": 20,
   "id": "20e217a2",
   "metadata": {},
   "outputs": [],
   "source": [
    "df1 = df.copy()"
   ]
  },
  {
   "cell_type": "code",
   "execution_count": 21,
   "id": "688a814d-bf2e-455c-b81e-d7ed02238ab3",
   "metadata": {},
   "outputs": [
    {
     "name": "stdout",
     "output_type": "stream",
     "text": [
      "Kolom gender ['Male' 'Female']\n",
      "Kolom married ['No' 'Yes']\n",
      "Kolom dependents ['0' '1' '2' '3+']\n",
      "Kolom education ['Graduate' 'Not Graduate']\n",
      "Kolom self_employed ['No' 'Yes']\n",
      "Kolom property_type ['house' 'studio' 'apartment']\n"
     ]
    }
   ],
   "source": [
    "#Membuat daftar nama kolom bertipe kategorikal\n",
    "cats = ['gender','married','dependents','education','self_employed','property_type']\n",
    "\n",
    "#Melihat kategori dari setiap kolom\n",
    "for i in cats:\n",
    "    print('Kolom', i, df1[i].unique())"
   ]
  },
  {
   "cell_type": "code",
   "execution_count": 22,
   "id": "899f06c7-48c1-4e5d-a79f-ce75f1b6658d",
   "metadata": {},
   "outputs": [
    {
     "data": {
      "text/html": [
       "<div>\n",
       "<style scoped>\n",
       "    .dataframe tbody tr th:only-of-type {\n",
       "        vertical-align: middle;\n",
       "    }\n",
       "\n",
       "    .dataframe tbody tr th {\n",
       "        vertical-align: top;\n",
       "    }\n",
       "\n",
       "    .dataframe thead th {\n",
       "        text-align: right;\n",
       "    }\n",
       "</style>\n",
       "<table border=\"1\" class=\"dataframe\">\n",
       "  <thead>\n",
       "    <tr style=\"text-align: right;\">\n",
       "      <th></th>\n",
       "      <th>loan_id</th>\n",
       "      <th>birth_date</th>\n",
       "      <th>phone_number</th>\n",
       "      <th>gender</th>\n",
       "      <th>married</th>\n",
       "      <th>dependents</th>\n",
       "      <th>education</th>\n",
       "      <th>self_employed</th>\n",
       "      <th>applicant_income</th>\n",
       "      <th>coapplicant_income</th>\n",
       "      <th>loan_amount</th>\n",
       "      <th>loan_term_month</th>\n",
       "      <th>loan_term_year</th>\n",
       "      <th>credit_history</th>\n",
       "      <th>property_type</th>\n",
       "      <th>loan_status</th>\n",
       "    </tr>\n",
       "  </thead>\n",
       "  <tbody>\n",
       "    <tr>\n",
       "      <th>0</th>\n",
       "      <td>LP001002</td>\n",
       "      <td>1977-05-15</td>\n",
       "      <td>1977-05-15</td>\n",
       "      <td>0</td>\n",
       "      <td>0</td>\n",
       "      <td>0</td>\n",
       "      <td>Graduate</td>\n",
       "      <td>0</td>\n",
       "      <td>5849.0</td>\n",
       "      <td>0.0</td>\n",
       "      <td>100000</td>\n",
       "      <td>360</td>\n",
       "      <td>30</td>\n",
       "      <td>1.0</td>\n",
       "      <td>0</td>\n",
       "      <td>APPROVE</td>\n",
       "    </tr>\n",
       "    <tr>\n",
       "      <th>1</th>\n",
       "      <td>LP001003</td>\n",
       "      <td>1979-08-24</td>\n",
       "      <td>1979-08-24</td>\n",
       "      <td>0</td>\n",
       "      <td>1</td>\n",
       "      <td>1</td>\n",
       "      <td>Graduate</td>\n",
       "      <td>0</td>\n",
       "      <td>4583.0</td>\n",
       "      <td>1508.0</td>\n",
       "      <td>128000</td>\n",
       "      <td>360</td>\n",
       "      <td>30</td>\n",
       "      <td>1.0</td>\n",
       "      <td>1</td>\n",
       "      <td>REJECT</td>\n",
       "    </tr>\n",
       "    <tr>\n",
       "      <th>2</th>\n",
       "      <td>LP001005</td>\n",
       "      <td>1991-03-28</td>\n",
       "      <td>1991-03-28</td>\n",
       "      <td>0</td>\n",
       "      <td>1</td>\n",
       "      <td>0</td>\n",
       "      <td>Graduate</td>\n",
       "      <td>1</td>\n",
       "      <td>3000.0</td>\n",
       "      <td>0.0</td>\n",
       "      <td>66000</td>\n",
       "      <td>360</td>\n",
       "      <td>30</td>\n",
       "      <td>1.0</td>\n",
       "      <td>0</td>\n",
       "      <td>APPROVE</td>\n",
       "    </tr>\n",
       "    <tr>\n",
       "      <th>3</th>\n",
       "      <td>LP001006</td>\n",
       "      <td>1980-06-02</td>\n",
       "      <td>1980-06-02</td>\n",
       "      <td>0</td>\n",
       "      <td>1</td>\n",
       "      <td>0</td>\n",
       "      <td>Not Graduate</td>\n",
       "      <td>0</td>\n",
       "      <td>2583.0</td>\n",
       "      <td>2358.0</td>\n",
       "      <td>120000</td>\n",
       "      <td>360</td>\n",
       "      <td>30</td>\n",
       "      <td>1.0</td>\n",
       "      <td>0</td>\n",
       "      <td>APPROVE</td>\n",
       "    </tr>\n",
       "    <tr>\n",
       "      <th>4</th>\n",
       "      <td>LP001008</td>\n",
       "      <td>1989-05-19</td>\n",
       "      <td>1989-05-19</td>\n",
       "      <td>0</td>\n",
       "      <td>0</td>\n",
       "      <td>0</td>\n",
       "      <td>Graduate</td>\n",
       "      <td>0</td>\n",
       "      <td>6000.0</td>\n",
       "      <td>0.0</td>\n",
       "      <td>141000</td>\n",
       "      <td>360</td>\n",
       "      <td>30</td>\n",
       "      <td>1.0</td>\n",
       "      <td>0</td>\n",
       "      <td>APPROVE</td>\n",
       "    </tr>\n",
       "  </tbody>\n",
       "</table>\n",
       "</div>"
      ],
      "text/plain": [
       "    loan_id birth_date phone_number  gender  married  dependents  \\\n",
       "0  LP001002 1977-05-15   1977-05-15       0        0           0   \n",
       "1  LP001003 1979-08-24   1979-08-24       0        1           1   \n",
       "2  LP001005 1991-03-28   1991-03-28       0        1           0   \n",
       "3  LP001006 1980-06-02   1980-06-02       0        1           0   \n",
       "4  LP001008 1989-05-19   1989-05-19       0        0           0   \n",
       "\n",
       "      education  self_employed  applicant_income  coapplicant_income  \\\n",
       "0      Graduate              0            5849.0                 0.0   \n",
       "1      Graduate              0            4583.0              1508.0   \n",
       "2      Graduate              1            3000.0                 0.0   \n",
       "3  Not Graduate              0            2583.0              2358.0   \n",
       "4      Graduate              0            6000.0                 0.0   \n",
       "\n",
       "   loan_amount  loan_term_month  loan_term_year  credit_history  \\\n",
       "0       100000              360              30             1.0   \n",
       "1       128000              360              30             1.0   \n",
       "2        66000              360              30             1.0   \n",
       "3       120000              360              30             1.0   \n",
       "4       141000              360              30             1.0   \n",
       "\n",
       "   property_type loan_status  \n",
       "0              0     APPROVE  \n",
       "1              1      REJECT  \n",
       "2              0     APPROVE  \n",
       "3              0     APPROVE  \n",
       "4              0     APPROVE  "
      ]
     },
     "execution_count": 22,
     "metadata": {},
     "output_type": "execute_result"
    }
   ],
   "source": [
    "#Mapping manual\n",
    "mapping_gender = {\n",
    "    'Male' : 0,\n",
    "    'Female' : 1\n",
    "}\n",
    "mapping_married = {\n",
    "    'No' : 0,\n",
    "    'Yes' : 1\n",
    "}\n",
    "mapping_dependents = {\n",
    "    '0' : 0,\n",
    "    '1' : 1,\n",
    "    '2' : 2,\n",
    "    '3+' : 3\n",
    "}\n",
    "mapping_education = {\n",
    "    'Not Graduate' : 0,\n",
    "    'Graduate' : 1\n",
    "}\n",
    "mapping_self_employed = {\n",
    "    'No' : 0,\n",
    "    'Yes' : 1\n",
    "}\n",
    "mapping_property_type = {\n",
    "    'house' : 0,\n",
    "    'studio' : 1,\n",
    "    'apartment' : 2\n",
    "}\n",
    "\n",
    "df1['gender'] = df1['gender'].map(mapping_gender)\n",
    "df1['married'] = df1['married'].map(mapping_married)\n",
    "df1['dependents'] = df1['dependents'].map(mapping_dependents)\n",
    "df1['self_employed'] = df1['self_employed'].map(mapping_self_employed)\n",
    "df1['property_type'] = df1['property_type'].map(mapping_property_type)\n",
    "df1.head()"
   ]
  },
  {
   "cell_type": "code",
   "execution_count": null,
   "id": "376ac492-26b6-46e0-a97b-aef307539120",
   "metadata": {},
   "outputs": [],
   "source": []
  },
  {
   "cell_type": "markdown",
   "id": "a7228757",
   "metadata": {},
   "source": [
    "# Business Insight"
   ]
  },
  {
   "cell_type": "markdown",
   "id": "b890d514",
   "metadata": {},
   "source": [
    "## Analisis minat pelanggan berdasarkan pada tipe properti"
   ]
  },
  {
   "cell_type": "code",
   "execution_count": 23,
   "id": "86d1cecb",
   "metadata": {},
   "outputs": [
    {
     "data": {
      "text/html": [
       "<div>\n",
       "<style scoped>\n",
       "    .dataframe tbody tr th:only-of-type {\n",
       "        vertical-align: middle;\n",
       "    }\n",
       "\n",
       "    .dataframe tbody tr th {\n",
       "        vertical-align: top;\n",
       "    }\n",
       "\n",
       "    .dataframe thead th {\n",
       "        text-align: right;\n",
       "    }\n",
       "</style>\n",
       "<table border=\"1\" class=\"dataframe\">\n",
       "  <thead>\n",
       "    <tr style=\"text-align: right;\">\n",
       "      <th></th>\n",
       "      <th>gender</th>\n",
       "      <th>property_type</th>\n",
       "      <th>loan_id</th>\n",
       "    </tr>\n",
       "  </thead>\n",
       "  <tbody>\n",
       "    <tr>\n",
       "      <th>0</th>\n",
       "      <td>Female</td>\n",
       "      <td>apartment</td>\n",
       "      <td>24</td>\n",
       "    </tr>\n",
       "    <tr>\n",
       "      <th>1</th>\n",
       "      <td>Female</td>\n",
       "      <td>house</td>\n",
       "      <td>11</td>\n",
       "    </tr>\n",
       "    <tr>\n",
       "      <th>2</th>\n",
       "      <td>Female</td>\n",
       "      <td>studio</td>\n",
       "      <td>15</td>\n",
       "    </tr>\n",
       "    <tr>\n",
       "      <th>3</th>\n",
       "      <td>Male</td>\n",
       "      <td>apartment</td>\n",
       "      <td>90</td>\n",
       "    </tr>\n",
       "    <tr>\n",
       "      <th>4</th>\n",
       "      <td>Male</td>\n",
       "      <td>house</td>\n",
       "      <td>72</td>\n",
       "    </tr>\n",
       "    <tr>\n",
       "      <th>5</th>\n",
       "      <td>Male</td>\n",
       "      <td>studio</td>\n",
       "      <td>70</td>\n",
       "    </tr>\n",
       "  </tbody>\n",
       "</table>\n",
       "</div>"
      ],
      "text/plain": [
       "   gender property_type  loan_id\n",
       "0  Female     apartment       24\n",
       "1  Female         house       11\n",
       "2  Female        studio       15\n",
       "3    Male     apartment       90\n",
       "4    Male         house       72\n",
       "5    Male        studio       70"
      ]
     },
     "execution_count": 23,
     "metadata": {},
     "output_type": "execute_result"
    }
   ],
   "source": [
    "df_gr1 = df.groupby(['gender','property_type'])['loan_id'].count().reset_index()\n",
    "df_gr1"
   ]
  },
  {
   "cell_type": "code",
   "execution_count": 24,
   "id": "387bf0b1-3bd9-4181-9d71-eeca7599c1dc",
   "metadata": {},
   "outputs": [
    {
     "data": {
      "text/html": [
       "<div>\n",
       "<style scoped>\n",
       "    .dataframe tbody tr th:only-of-type {\n",
       "        vertical-align: middle;\n",
       "    }\n",
       "\n",
       "    .dataframe tbody tr th {\n",
       "        vertical-align: top;\n",
       "    }\n",
       "\n",
       "    .dataframe thead th {\n",
       "        text-align: right;\n",
       "    }\n",
       "</style>\n",
       "<table border=\"1\" class=\"dataframe\">\n",
       "  <thead>\n",
       "    <tr style=\"text-align: right;\">\n",
       "      <th></th>\n",
       "      <th>gender</th>\n",
       "      <th>property_type</th>\n",
       "      <th>count</th>\n",
       "    </tr>\n",
       "  </thead>\n",
       "  <tbody>\n",
       "    <tr>\n",
       "      <th>0</th>\n",
       "      <td>Female</td>\n",
       "      <td>apartment</td>\n",
       "      <td>24</td>\n",
       "    </tr>\n",
       "    <tr>\n",
       "      <th>1</th>\n",
       "      <td>Female</td>\n",
       "      <td>house</td>\n",
       "      <td>11</td>\n",
       "    </tr>\n",
       "    <tr>\n",
       "      <th>2</th>\n",
       "      <td>Female</td>\n",
       "      <td>studio</td>\n",
       "      <td>15</td>\n",
       "    </tr>\n",
       "    <tr>\n",
       "      <th>3</th>\n",
       "      <td>Male</td>\n",
       "      <td>apartment</td>\n",
       "      <td>90</td>\n",
       "    </tr>\n",
       "    <tr>\n",
       "      <th>4</th>\n",
       "      <td>Male</td>\n",
       "      <td>house</td>\n",
       "      <td>72</td>\n",
       "    </tr>\n",
       "    <tr>\n",
       "      <th>5</th>\n",
       "      <td>Male</td>\n",
       "      <td>studio</td>\n",
       "      <td>70</td>\n",
       "    </tr>\n",
       "  </tbody>\n",
       "</table>\n",
       "</div>"
      ],
      "text/plain": [
       "   gender property_type  count\n",
       "0  Female     apartment     24\n",
       "1  Female         house     11\n",
       "2  Female        studio     15\n",
       "3    Male     apartment     90\n",
       "4    Male         house     72\n",
       "5    Male        studio     70"
      ]
     },
     "execution_count": 24,
     "metadata": {},
     "output_type": "execute_result"
    }
   ],
   "source": [
    "df_gr1.columns = ['gender','property_type','count']\n",
    "df_gr1"
   ]
  },
  {
   "cell_type": "code",
   "execution_count": 25,
   "id": "d7ddd144-743c-4da5-8374-6294e038485c",
   "metadata": {},
   "outputs": [
    {
     "data": {
      "image/png": "[encoded data removed]",
      "text/plain": [
       "<Figure size 1200x800 with 1 Axes>"
      ]
     },
     "metadata": {},
     "output_type": "display_data"
    }
   ],
   "source": [
    "sns.set(style='darkgrid')\n",
    "f, ax = plt.subplots(1,1,figsize=(12,8))\n",
    "sns.countplot(x = 'property_type', data = df, hue = 'gender', palette = 'Set2')\n",
    "\n",
    "for bar in ax.patches:\n",
    "    bar_value = bar.get_height() #tinggi disimpan di bar value\n",
    "    text = f'{bar_value:,}' # bar value ditampilkan dengan text\n",
    "    text_x = bar.get_x() + bar.get_width() / 2 #text x di tengah\n",
    "    text_y = bar.get_y() + bar_value #text y di atas\n",
    "    bar_color = bar.get_facecolor()\n",
    "    ax.text(text_x,text_y, text, ha='center', va='bottom', color='black', size=12)\n",
    "\n",
    "ax.set_xlabel('Property Type', labelpad=15)\n",
    "ax.set_ylabel('Count', labelpad=15)\n",
    "ax.set_title('Apartment is the most popular property type \\nfor both male and female customers', pad=15, size=20)\n",
    "plt.tight_layout()\n",
    "plt.savefig('Analyze_the_behavior_of_loan_property_custumer_01.png', dpi=200);"
   ]
  },
  {
   "cell_type": "raw",
   "id": "b177294d-02fe-4c50-8d14-fa1462342bbe",
   "metadata": {},
   "source": [
    "Kesimpulan: Apartment merupakan pilihan paling banyak untuk wanita maupun pria. Selain itu, pria cenderung memiliki properti/hunian dibanding wanita."
   ]
  },
  {
   "cell_type": "markdown",
   "id": "c43363d1",
   "metadata": {},
   "source": [
    "## Analisis pengaruh status perkawinan terhadap jangka waktu meminjam "
   ]
  },
  {
   "cell_type": "code",
   "execution_count": 26,
   "id": "6f206911",
   "metadata": {},
   "outputs": [
    {
     "data": {
      "text/html": [
       "<div>\n",
       "<style scoped>\n",
       "    .dataframe tbody tr th:only-of-type {\n",
       "        vertical-align: middle;\n",
       "    }\n",
       "\n",
       "    .dataframe tbody tr th {\n",
       "        vertical-align: top;\n",
       "    }\n",
       "\n",
       "    .dataframe thead th {\n",
       "        text-align: right;\n",
       "    }\n",
       "</style>\n",
       "<table border=\"1\" class=\"dataframe\">\n",
       "  <thead>\n",
       "    <tr style=\"text-align: right;\">\n",
       "      <th></th>\n",
       "      <th>married</th>\n",
       "      <th>loan_term_year</th>\n",
       "      <th>number_of_applicant</th>\n",
       "    </tr>\n",
       "  </thead>\n",
       "  <tbody>\n",
       "    <tr>\n",
       "      <th>0</th>\n",
       "      <td>No</td>\n",
       "      <td>30</td>\n",
       "      <td>106</td>\n",
       "    </tr>\n",
       "    <tr>\n",
       "      <th>1</th>\n",
       "      <td>Yes</td>\n",
       "      <td>30</td>\n",
       "      <td>176</td>\n",
       "    </tr>\n",
       "  </tbody>\n",
       "</table>\n",
       "</div>"
      ],
      "text/plain": [
       "  married  loan_term_year  number_of_applicant\n",
       "0      No              30                  106\n",
       "1     Yes              30                  176"
      ]
     },
     "execution_count": 26,
     "metadata": {},
     "output_type": "execute_result"
    }
   ],
   "source": [
    "df_gr2 = df.groupby(['married','loan_term_year'])['loan_id'].count().reset_index()\n",
    "df_gr2.columns = ['married','loan_term_year','number_of_applicant']\n",
    "df_gr2"
   ]
  },
  {
   "cell_type": "code",
   "execution_count": 27,
   "id": "8d3b01f8-50ae-4b53-b38e-4924aefdca01",
   "metadata": {},
   "outputs": [
    {
     "data": {
      "image/png": "[encoded data removed]",
      "text/plain": [
       "<Figure size 1200x800 with 1 Axes>"
      ]
     },
     "metadata": {},
     "output_type": "display_data"
    }
   ],
   "source": [
    "sns.set(style='darkgrid')\n",
    "f, ax = plt.subplots(1,1,figsize=(12,8))\n",
    "sns.countplot(x = 'married', data = df, hue = 'loan_term_year', palette = 'Set1')\n",
    "\n",
    "for bar in ax.patches:\n",
    "    bar_value = bar.get_height()\n",
    "    text = f'{bar_value:,}'\n",
    "    text_x = bar.get_x() + bar.get_width() / 2\n",
    "    text_y = bar.get_y() + bar_value\n",
    "    bar_color = bar.get_facecolor()\n",
    "    ax.text(text_x,text_y, text, ha='center', va='bottom', color='black', size=12)\n",
    "\n",
    "ax.set_xlabel('Married', labelpad=15)\n",
    "ax.set_ylabel('Number of Applicant', labelpad=15)\n",
    "ax.set_title('Married couples tend to take out loans', pad=15, size=20)\n",
    "plt.tight_layout()\n",
    "plt.savefig('Analyze_martial_status_on_loan_term_year_01.png', dpi=200);"
   ]
  },
  {
   "cell_type": "raw",
   "id": "2353c66b-4e09-4a98-8b1b-350eba907f18",
   "metadata": {},
   "source": [
    "Kesimpulan: pasangan menikah lebih banyak melakukan peminjaman dalam jangka 30 tahun dibandingkan dengan yang bukan pasangan menikah"
   ]
  },
  {
   "cell_type": "code",
   "execution_count": null,
   "id": "2b6e247f-22ee-4556-8a7c-669616a33f08",
   "metadata": {},
   "outputs": [],
   "source": []
  }
 ],
 "metadata": {
  "kernelspec": {
   "display_name": "Python 3 (ipykernel)",
   "language": "python",
   "name": "python3"
  },
  "language_info": {
   "codemirror_mode": {
    "name": "ipython",
    "version": 3
   },
   "file_extension": ".py",
   "mimetype": "text/x-python",
   "name": "python",
   "nbconvert_exporter": "python",
   "pygments_lexer": "ipython3",
   "version": "3.12.1"
  }
 },
 "nbformat": 4,
 "nbformat_minor": 5
}
